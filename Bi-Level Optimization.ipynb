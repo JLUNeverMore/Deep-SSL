{
 "cells": [
  {
   "cell_type": "code",
   "execution_count": 1,
   "metadata": {
    "collapsed": true
   },
   "outputs": [],
   "source": [
    "from __future__ import print_function\n",
    "import argparse\n",
    "import torch\n",
    "import torch.nn as nn\n",
    "import torch.nn.functional as F\n",
    "import torch.optim as optim\n",
    "from torchvision import transforms\n",
    "from sklearn.metrics import accuracy_score, roc_auc_score\n",
    "from torch.utils.data import Dataset, DataLoader\n",
    "import numpy as np\n",
    "import matplotlib.pyplot as plt\n",
    "from torch.autograd import Variable\n",
    "\n",
    "SAVE_PATH = './path/to/data/'\n",
    "\n",
    "class Net(nn.Module):\n",
    "    def __init__(self, n_input, n_output):\n",
    "        super(Net, self).__init__()\n",
    "        self.fc = nn.Linear(n_input, n_output)\n",
    "\n",
    "    def forward(self, x):\n",
    "        x = self.fc(x)\n",
    "        return x.squeeze()"
   ]
  },
  {
   "cell_type": "code",
   "execution_count": 2,
   "metadata": {},
   "outputs": [
    {
     "name": "stdout",
     "output_type": "stream",
     "text": [
      "[450 153 369 223 180 447 105 328 149 460 124 417  44 269 315 184  33 342\n",
      " 212  97 376 249 294 344 456 101 352 322 279 383 456 299 296 412  12 324\n",
      " 223 372 300 303  46  13  69  43 171 385 427   8 374 319 354 153 221 189\n",
      " 258  72  17  68 303 320 361  18 207 275 225 236 399 346 431 234 191 332\n",
      " 440 109  50 268 441 289 224 283 457 293 211   9  50 448   9 449  47 216\n",
      " 373  90 165 233 432 189 105 398 215 163]\n"
     ]
    }
   ],
   "source": [
    "from sklearn import datasets\n",
    "breast_cancer = datasets.load_breast_cancer()\n",
    "data, labels = breast_cancer['data'], breast_cancer['target']\n",
    "\n",
    "mu = np.mean(data, axis = 0)\n",
    "std = np.std(data, axis = 0)\n",
    "data = (data - mu) / std\n",
    "num_train = data.shape[0] - 100\n",
    "num_noisy = 100\n",
    "num_val = 50\n",
    "num_test = 50\n",
    "\n",
    "x_train, y_train = data[:num_train, :], labels[:num_train]\n",
    "\n",
    "noisy_index = np.random.randint(0, num_train, num_noisy)\n",
    "print(noisy_index)\n",
    "y_train[noisy_index] = 1 - y_train[noisy_index]\n",
    "\n",
    "x_val, y_val = data[num_train:num_train+num_val,:], labels[num_train:num_train+num_val]\n",
    "x_test, y_test = data[num_train + num_val:,:], labels[num_train + num_val:]"
   ]
  },
  {
   "cell_type": "code",
   "execution_count": 5,
   "metadata": {},
   "outputs": [
    {
     "name": "stdout",
     "output_type": "stream",
     "text": [
      "0.96 0.9375\n"
     ]
    }
   ],
   "source": [
    "from sklearn.linear_model import LogisticRegression\n",
    "lr = LogisticRegression()\n",
    "lr.fit(x_train, y_train)\n",
    "predition = lr.predict(x_test)\n",
    "print(accuracy_score(predition, y_test), roc_auc_score(predition, y_test))"
   ]
  },
  {
   "cell_type": "code",
   "execution_count": null,
   "metadata": {
    "collapsed": true
   },
   "outputs": [],
   "source": []
  },
  {
   "cell_type": "code",
   "execution_count": 3,
   "metadata": {},
   "outputs": [
    {
     "name": "stdout",
     "output_type": "stream",
     "text": [
      "0.26999999999999996 0.26\n",
      "0.31499999999999995 0.28\n",
      "0.36 0.34\n",
      "0.41 0.4\n",
      "0.46499999999999997 0.42\n",
      "0.53 0.44\n",
      "0.5974999999999999 0.48\n",
      "0.64 0.52\n",
      "0.6599999999999999 0.54\n",
      "0.675 0.58\n",
      "0.7075 0.58\n",
      "0.735 0.6\n",
      "0.7625 0.62\n",
      "0.78 0.64\n",
      "0.8025 0.68\n",
      "0.8225 0.72\n",
      "0.835 0.76\n",
      "0.8574999999999999 0.78\n",
      "0.865 0.78\n",
      "0.8725 0.78\n",
      "0.8875 0.8\n",
      "0.8975 0.8\n",
      "0.9124999999999999 0.8\n",
      "0.9249999999999999 0.82\n",
      "0.9325 0.82\n",
      "0.9375 0.82\n",
      "0.94 0.82\n",
      "0.9475 0.82\n",
      "0.9524999999999999 0.82\n",
      "0.955 0.82\n",
      "0.9574999999999999 0.86\n",
      "0.96 0.86\n",
      "0.9624999999999999 0.88\n",
      "0.9675 0.88\n",
      "0.9675 0.88\n",
      "0.9749999999999999 0.88\n",
      "0.9749999999999999 0.88\n",
      "0.9774999999999998 0.88\n",
      "0.9799999999999999 0.88\n",
      "0.9799999999999999 0.88\n",
      "0.9799999999999999 0.88\n",
      "0.9824999999999999 0.88\n",
      "0.9849999999999999 0.88\n",
      "0.9849999999999999 0.88\n",
      "0.9849999999999999 0.88\n",
      "0.9875 0.88\n",
      "0.9875 0.88\n",
      "0.99 0.88\n",
      "0.99 0.88\n",
      "0.99 0.9\n",
      "0.99 0.9\n",
      "0.99 0.9\n",
      "0.99 0.9\n",
      "0.99 0.9\n",
      "0.99 0.92\n",
      "0.99 0.92\n",
      "0.99 0.92\n",
      "0.99 0.92\n",
      "0.99 0.92\n",
      "0.99 0.92\n",
      "0.99 0.92\n",
      "0.99 0.92\n",
      "0.99 0.92\n",
      "0.9925 0.92\n",
      "0.9925 0.92\n",
      "0.9925 0.92\n",
      "0.995 0.92\n",
      "0.995 0.92\n",
      "0.995 0.92\n",
      "0.995 0.92\n",
      "0.995 0.92\n",
      "0.995 0.92\n",
      "0.995 0.92\n",
      "0.995 0.92\n",
      "0.995 0.92\n",
      "0.995 0.92\n",
      "0.995 0.92\n",
      "0.995 0.92\n",
      "0.995 0.92\n",
      "0.995 0.92\n",
      "0.995 0.92\n",
      "0.995 0.92\n",
      "0.995 0.92\n",
      "0.995 0.92\n",
      "0.995 0.92\n",
      "0.995 0.92\n",
      "0.995 0.92\n",
      "0.995 0.92\n",
      "0.995 0.92\n",
      "0.995 0.92\n",
      "0.9975 0.92\n",
      "0.9975 0.92\n",
      "0.9975 0.92\n",
      "0.9975 0.92\n",
      "0.9975 0.92\n",
      "0.9975 0.92\n",
      "0.9975 0.92\n",
      "0.9975 0.92\n",
      "0.9975 0.92\n",
      "0.9975 0.92\n"
     ]
    }
   ],
   "source": [
    "LR = Net(x_train.shape[1], 1)\n",
    "optimizer = torch.optim.SGD(LR.parameters(), lr = 0.01)\n",
    "LR.train()\n",
    "\n",
    "x_var = Variable(torch.FloatTensor(x_train))\n",
    "y_var = Variable(torch.FloatTensor(y_train))\n",
    "x_test_var = Variable(torch.FloatTensor(x_test))\n",
    "y_test_var = Variable(torch.FloatTensor(y_test))\n",
    "\n",
    "for i in range(100):\n",
    "    y_hat = LR(x_var)\n",
    "    cost = F.binary_cross_entropy_with_logits(y_hat, y_var)\n",
    "    \n",
    "    optimizer.zero_grad()\n",
    "    cost.backward()\n",
    "    optimizer.step()\n",
    "    \n",
    "    result = LR(x_test_var)\n",
    "    pred_proba = torch.sigmoid(result)\n",
    "    predicted = (pred_proba > 0.5).int()\n",
    "    acc = accuracy_score(y_test, predicted.int())\n",
    "    auc = roc_auc_score(y_test, pred_proba.data.numpy())\n",
    "    print(auc, acc)"
   ]
  },
  {
   "cell_type": "code",
   "execution_count": 5,
   "metadata": {
    "collapsed": true
   },
   "outputs": [],
   "source": []
  },
  {
   "cell_type": "code",
   "execution_count": null,
   "metadata": {
    "collapsed": true
   },
   "outputs": [],
   "source": []
  },
  {
   "cell_type": "code",
   "execution_count": null,
   "metadata": {
    "collapsed": true
   },
   "outputs": [],
   "source": []
  },
  {
   "cell_type": "code",
   "execution_count": null,
   "metadata": {
    "collapsed": true
   },
   "outputs": [],
   "source": []
  }
 ],
 "metadata": {
  "kernelspec": {
   "display_name": "Python 3",
   "language": "python",
   "name": "python3"
  },
  "language_info": {
   "codemirror_mode": {
    "name": "ipython",
    "version": 3
   },
   "file_extension": ".py",
   "mimetype": "text/x-python",
   "name": "python",
   "nbconvert_exporter": "python",
   "pygments_lexer": "ipython3",
   "version": "3.6.3"
  }
 },
 "nbformat": 4,
 "nbformat_minor": 2
}
